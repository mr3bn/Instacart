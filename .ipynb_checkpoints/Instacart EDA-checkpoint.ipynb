{
 "cells": [
  {
   "cell_type": "code",
   "execution_count": 11,
   "metadata": {},
   "outputs": [
    {
     "name": "stdout",
     "output_type": "stream",
     "text": [
      "\r",
      "Read 0.0% of 32434489 rows\r",
      "Read 19.9% of 32434489 rows\r",
      "Read 39.6% of 32434489 rows\r",
      "Read 57.7% of 32434489 rows\r",
      "Read 76.2% of 32434489 rows\r",
      "Read 95.4% of 32434489 rows\r",
      "Read 32434489 rows and 4 (of 4) columns from 0.538 GB file in 00:00:08\n"
     ]
    }
   ],
   "source": [
    "library(data.table)\n",
    "library(dplyr)\n",
    "library(ggplot2)\n",
    "library(knitr)\n",
    "library(stringr)\n",
    "\n",
    "orders <- fread('Data/orders.csv')\n",
    "products <- fread('Data/products.csv')\n",
    "order_products <- fread('Data/order_products__train.csv')\n",
    "order_products_prior <- fread('Data/order_products__prior.csv')\n",
    "aisles <- fread('Data/aisles.csv')\n",
    "departments <- fread('Data/departments.csv')"
   ]
  },
  {
   "cell_type": "code",
   "execution_count": 14,
   "metadata": {},
   "outputs": [
    {
     "ename": "ERROR",
     "evalue": "Error in parse(text = x, srcfile = src): <text>:1:3: unexpected ','\n1: {r,\n      ^\n",
     "output_type": "error",
     "traceback": [
      "Error in parse(text = x, srcfile = src): <text>:1:3: unexpected ','\n1: {r,\n      ^\nTraceback:\n"
     ]
    }
   ],
   "source": []
  },
  {
   "cell_type": "code",
   "execution_count": null,
   "metadata": {
    "collapsed": true
   },
   "outputs": [],
   "source": []
  }
 ],
 "metadata": {
  "kernelspec": {
   "display_name": "R",
   "language": "R",
   "name": "ir"
  },
  "language_info": {
   "codemirror_mode": "r",
   "file_extension": ".r",
   "mimetype": "text/x-r-source",
   "name": "R",
   "pygments_lexer": "r",
   "version": "3.3.2"
  }
 },
 "nbformat": 4,
 "nbformat_minor": 2
}
